{
 "cells": [
  {
   "cell_type": "code",
   "execution_count": 1,
   "id": "76d7dad5",
   "metadata": {},
   "outputs": [],
   "source": [
    "from hashlib import sha256"
   ]
  },
  {
   "cell_type": "code",
   "execution_count": 4,
   "id": "a1a0ed0f",
   "metadata": {},
   "outputs": [
    {
     "data": {
      "text/plain": [
       "'b5d4045c3f466fa91fe2cc6abe79232a1a57cdf104f7a26e716e0a1e2789df78'"
      ]
     },
     "execution_count": 4,
     "metadata": {},
     "output_type": "execute_result"
    }
   ],
   "source": [
    "sha256(\"ABC\".encode(\"ascii\")).hexdigest()\n",
    "\n",
    "#256 bit or 64 bit in hexadecimal"
   ]
  },
  {
   "cell_type": "code",
   "execution_count": 17,
   "id": "1699c463",
   "metadata": {},
   "outputs": [
    {
     "name": "stdout",
     "output_type": "stream",
     "text": [
      "New Hash found after trying 4914238 times\n",
      "\n",
      "New Hash:\n",
      "00000923b2b481acc40aca177dd114510506a06c031868dc2ed206af03435526\n",
      "\n",
      "Time taken to mine: 7.062187910079956 seconds\n"
     ]
    }
   ],
   "source": [
    "def SHA256(text):\n",
    "    return sha256(text.encode(\"ascii\")).hexdigest()\n",
    "\n",
    "def mine(block_number, transactions, previous_hash, prefix_zeros):\n",
    "    \n",
    "    s = '0'*prefix_zeros\n",
    "    MAX_NONCE = 10000000    \n",
    "    for nonce in range(MAX_NONCE):\n",
    "        text = str(block_number) + transactions + previous_hash + str(nonce)\n",
    "        new_hash = SHA256(text)\n",
    "        if new_hash.startswith(s):\n",
    "            print(f\"New Hash found after trying {nonce} times\\n\")\n",
    "            print(\"New Hash:\")\n",
    "            return new_hash\n",
    "        \n",
    "    raise BaseException(f\"Couldn't find new hash after trying {MAX_NONCE} times\")    \n",
    "\n",
    "if __name__=='__main__':\n",
    "    transactions = '''\n",
    "    Aman -> Prateek -> 30,\n",
    "    Moh -> Dan -> 72\n",
    "    '''\n",
    "    difficulty = 5\n",
    "    import time\n",
    "    start = time.time()\n",
    "    new_hash = mine(5,transactions,'0000000000000000000000000000000000000000000000000000000000000000',difficulty)\n",
    "    total_time = str((time.time()-start))\n",
    "    print(new_hash)\n",
    "    print()\n",
    "    print(f\"Time taken to mine: {total_time} seconds\")\n",
    "    "
   ]
  }
 ],
 "metadata": {
  "kernelspec": {
   "display_name": "Python 3 (ipykernel)",
   "language": "python",
   "name": "python3"
  },
  "language_info": {
   "codemirror_mode": {
    "name": "ipython",
    "version": 3
   },
   "file_extension": ".py",
   "mimetype": "text/x-python",
   "name": "python",
   "nbconvert_exporter": "python",
   "pygments_lexer": "ipython3",
   "version": "3.9.6"
  }
 },
 "nbformat": 4,
 "nbformat_minor": 5
}
